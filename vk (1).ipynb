{
 "cells": [
  {
   "cell_type": "markdown",
   "id": "5f4bd3e3",
   "metadata": {},
   "source": [
    "# Загрузка данных "
   ]
  },
  {
   "cell_type": "code",
   "execution_count": 2,
   "id": "10279254",
   "metadata": {},
   "outputs": [],
   "source": [
    "import pandas as pd\n",
    "import json\n",
    "import numpy as np\n",
    "import matplotlib.pyplot as plt\n",
    "import seaborn as sns"
   ]
  },
  {
   "cell_type": "code",
   "execution_count": 3,
   "id": "3f47a885",
   "metadata": {},
   "outputs": [],
   "source": [
    "def from_json_to_df(path: str): \n",
    "    data = []\n",
    "\n",
    "    with open(path, 'r') as f:\n",
    "        for line in f:\n",
    "            sample = json.loads(line)\n",
    "            post_text = sample['text']\n",
    "            for comment in sample['comments']:\n",
    "                comment_text = comment['text']\n",
    "                score = comment['score']\n",
    "                data.append([post_text, comment_text, score])\n",
    "\n",
    "    return pd.DataFrame(data, columns=['post_text', 'comment_text', 'score'])"
   ]
  },
  {
   "cell_type": "code",
   "execution_count": 4,
   "id": "0a809a7b",
   "metadata": {},
   "outputs": [
    {
     "name": "stdout",
     "output_type": "stream",
     "text": [
      "<class 'pandas.core.frame.DataFrame'>\n",
      "RangeIndex: 440535 entries, 0 to 440534\n",
      "Data columns (total 3 columns):\n",
      " #   Column        Non-Null Count   Dtype \n",
      "---  ------        --------------   ----- \n",
      " 0   post_text     440535 non-null  object\n",
      " 1   comment_text  440535 non-null  object\n",
      " 2   score         440535 non-null  int64 \n",
      "dtypes: int64(1), object(2)\n",
      "memory usage: 10.1+ MB\n",
      "(440535, 3) None\n"
     ]
    }
   ],
   "source": [
    "train_df = from_json_to_df(\"C:\\\\Users\\\\marty\\\\Desktop\\\\data\\\\ranking_train.jsonl\")\n",
    "print(train_df.shape,\n",
    "      train_df.info())"
   ]
  },
  {
   "cell_type": "code",
   "execution_count": 6,
   "id": "4d65b41a",
   "metadata": {},
   "outputs": [
    {
     "data": {
      "text/html": [
       "<div>\n",
       "<style scoped>\n",
       "    .dataframe tbody tr th:only-of-type {\n",
       "        vertical-align: middle;\n",
       "    }\n",
       "\n",
       "    .dataframe tbody tr th {\n",
       "        vertical-align: top;\n",
       "    }\n",
       "\n",
       "    .dataframe thead th {\n",
       "        text-align: right;\n",
       "    }\n",
       "</style>\n",
       "<table border=\"1\" class=\"dataframe\">\n",
       "  <thead>\n",
       "    <tr style=\"text-align: right;\">\n",
       "      <th></th>\n",
       "      <th>post_text</th>\n",
       "      <th>comment_text</th>\n",
       "      <th>score</th>\n",
       "    </tr>\n",
       "  </thead>\n",
       "  <tbody>\n",
       "    <tr>\n",
       "      <th>0</th>\n",
       "      <td>How many summer Y Combinator fundees decided n...</td>\n",
       "      <td>Going back to school is not identical with giv...</td>\n",
       "      <td>0</td>\n",
       "    </tr>\n",
       "    <tr>\n",
       "      <th>1</th>\n",
       "      <td>How many summer Y Combinator fundees decided n...</td>\n",
       "      <td>There will invariably be those who don't see t...</td>\n",
       "      <td>1</td>\n",
       "    </tr>\n",
       "    <tr>\n",
       "      <th>2</th>\n",
       "      <td>How many summer Y Combinator fundees decided n...</td>\n",
       "      <td>For me school is a way to be connected to what...</td>\n",
       "      <td>2</td>\n",
       "    </tr>\n",
       "    <tr>\n",
       "      <th>3</th>\n",
       "      <td>How many summer Y Combinator fundees decided n...</td>\n",
       "      <td>I guess it really depends on how hungry you ar...</td>\n",
       "      <td>3</td>\n",
       "    </tr>\n",
       "    <tr>\n",
       "      <th>4</th>\n",
       "      <td>How many summer Y Combinator fundees decided n...</td>\n",
       "      <td>I know pollground decided to go back to school...</td>\n",
       "      <td>4</td>\n",
       "    </tr>\n",
       "    <tr>\n",
       "      <th>5</th>\n",
       "      <td>CBS acquires last.fm for $280m</td>\n",
       "      <td>It will be curious to see where this heads in ...</td>\n",
       "      <td>0</td>\n",
       "    </tr>\n",
       "    <tr>\n",
       "      <th>6</th>\n",
       "      <td>CBS acquires last.fm for $280m</td>\n",
       "      <td>Does this mean that there's now a big-name com...</td>\n",
       "      <td>1</td>\n",
       "    </tr>\n",
       "    <tr>\n",
       "      <th>7</th>\n",
       "      <td>CBS acquires last.fm for $280m</td>\n",
       "      <td>Also on BBC News:  http://news.bbc.co.uk/1/low...</td>\n",
       "      <td>2</td>\n",
       "    </tr>\n",
       "    <tr>\n",
       "      <th>8</th>\n",
       "      <td>CBS acquires last.fm for $280m</td>\n",
       "      <td>I don't understand what they do that is worth ...</td>\n",
       "      <td>3</td>\n",
       "    </tr>\n",
       "    <tr>\n",
       "      <th>9</th>\n",
       "      <td>CBS acquires last.fm for $280m</td>\n",
       "      <td>sold out too cheaply. given their leadership p...</td>\n",
       "      <td>4</td>\n",
       "    </tr>\n",
       "  </tbody>\n",
       "</table>\n",
       "</div>"
      ],
      "text/plain": [
       "                                           post_text  \\\n",
       "0  How many summer Y Combinator fundees decided n...   \n",
       "1  How many summer Y Combinator fundees decided n...   \n",
       "2  How many summer Y Combinator fundees decided n...   \n",
       "3  How many summer Y Combinator fundees decided n...   \n",
       "4  How many summer Y Combinator fundees decided n...   \n",
       "5                     CBS acquires last.fm for $280m   \n",
       "6                     CBS acquires last.fm for $280m   \n",
       "7                     CBS acquires last.fm for $280m   \n",
       "8                     CBS acquires last.fm for $280m   \n",
       "9                     CBS acquires last.fm for $280m   \n",
       "\n",
       "                                        comment_text  score  \n",
       "0  Going back to school is not identical with giv...      0  \n",
       "1  There will invariably be those who don't see t...      1  \n",
       "2  For me school is a way to be connected to what...      2  \n",
       "3  I guess it really depends on how hungry you ar...      3  \n",
       "4  I know pollground decided to go back to school...      4  \n",
       "5  It will be curious to see where this heads in ...      0  \n",
       "6  Does this mean that there's now a big-name com...      1  \n",
       "7  Also on BBC News:  http://news.bbc.co.uk/1/low...      2  \n",
       "8  I don't understand what they do that is worth ...      3  \n",
       "9  sold out too cheaply. given their leadership p...      4  "
      ]
     },
     "execution_count": 6,
     "metadata": {},
     "output_type": "execute_result"
    }
   ],
   "source": [
    "train_df.head(10)"
   ]
  },
  {
   "cell_type": "markdown",
   "id": "8a41a070",
   "metadata": {},
   "source": [
    "У каждого поста выгружено по 5 комментариев, каждому из которых присвоен балл популярности комментария: 0 - самый популярный комментарий, 4 - самый непопулярный"
   ]
  },
  {
   "cell_type": "markdown",
   "id": "464f78e4",
   "metadata": {},
   "source": [
    "## Первичный анализ "
   ]
  },
  {
   "cell_type": "markdown",
   "id": "9b572fb3",
   "metadata": {},
   "source": [
    "<b> Гипотеза 1: </b> чем больше комментарий (чем больше в нем слов), тем более он информативен, тем более он популярный"
   ]
  },
  {
   "cell_type": "code",
   "execution_count": 7,
   "id": "dd160641",
   "metadata": {
    "scrolled": true
   },
   "outputs": [
    {
     "data": {
      "text/html": [
       "<div>\n",
       "<style scoped>\n",
       "    .dataframe tbody tr th:only-of-type {\n",
       "        vertical-align: middle;\n",
       "    }\n",
       "\n",
       "    .dataframe tbody tr th {\n",
       "        vertical-align: top;\n",
       "    }\n",
       "\n",
       "    .dataframe thead th {\n",
       "        text-align: right;\n",
       "    }\n",
       "</style>\n",
       "<table border=\"1\" class=\"dataframe\">\n",
       "  <thead>\n",
       "    <tr style=\"text-align: right;\">\n",
       "      <th></th>\n",
       "      <th>comment_text</th>\n",
       "      <th>word_count_comment</th>\n",
       "      <th>score</th>\n",
       "    </tr>\n",
       "  </thead>\n",
       "  <tbody>\n",
       "    <tr>\n",
       "      <th>0</th>\n",
       "      <td>Going back to school is not identical with giv...</td>\n",
       "      <td>186</td>\n",
       "      <td>0</td>\n",
       "    </tr>\n",
       "    <tr>\n",
       "      <th>1</th>\n",
       "      <td>There will invariably be those who don't see t...</td>\n",
       "      <td>76</td>\n",
       "      <td>1</td>\n",
       "    </tr>\n",
       "    <tr>\n",
       "      <th>2</th>\n",
       "      <td>For me school is a way to be connected to what...</td>\n",
       "      <td>91</td>\n",
       "      <td>2</td>\n",
       "    </tr>\n",
       "    <tr>\n",
       "      <th>3</th>\n",
       "      <td>I guess it really depends on how hungry you ar...</td>\n",
       "      <td>65</td>\n",
       "      <td>3</td>\n",
       "    </tr>\n",
       "    <tr>\n",
       "      <th>4</th>\n",
       "      <td>I know pollground decided to go back to school...</td>\n",
       "      <td>14</td>\n",
       "      <td>4</td>\n",
       "    </tr>\n",
       "  </tbody>\n",
       "</table>\n",
       "</div>"
      ],
      "text/plain": [
       "                                        comment_text  word_count_comment  \\\n",
       "0  Going back to school is not identical with giv...                 186   \n",
       "1  There will invariably be those who don't see t...                  76   \n",
       "2  For me school is a way to be connected to what...                  91   \n",
       "3  I guess it really depends on how hungry you ar...                  65   \n",
       "4  I know pollground decided to go back to school...                  14   \n",
       "\n",
       "   score  \n",
       "0      0  \n",
       "1      1  \n",
       "2      2  \n",
       "3      3  \n",
       "4      4  "
      ]
     },
     "metadata": {},
     "output_type": "display_data"
    }
   ],
   "source": [
    "# подсчитаем количество слов \n",
    "train_df['word_count_comment'] = train_df['comment_text'].apply(lambda x : len(str(x).split(\" \")))\n",
    "\n",
    "display(train_df[['comment_text', 'word_count_comment', 'score']].head())"
   ]
  },
  {
   "cell_type": "code",
   "execution_count": 9,
   "id": "42ffc572",
   "metadata": {},
   "outputs": [
    {
     "data": {
      "text/plain": [
       "Text(0, 0.5, 'Количество комментариев')"
      ]
     },
     "execution_count": 9,
     "metadata": {},
     "output_type": "execute_result"
    },
    {
     "data": {
      "image/png": "[encoded data removed]",
      "text/plain": [
       "<Figure size 432x288 with 1 Axes>"
      ]
     },
     "metadata": {
      "needs_background": "light"
     },
     "output_type": "display_data"
    }
   ],
   "source": [
    "# график соотношения количества слов в комментариях.\n",
    "plt.clf()\n",
    "sns.histplot(data=train_df, x=\"word_count_comment\", hue=\"score\", bins=1000)\n",
    "plt.xlim(0, 500)\n",
    "plt.xlabel(\"Количество слов в комментарии\")\n",
    "plt.ylabel(\"Количество комментариев\")"
   ]
  },
  {
   "cell_type": "code",
   "execution_count": 8,
   "id": "00098bca",
   "metadata": {},
   "outputs": [],
   "source": [
    "target_0 = train_df.loc[train_df['score'] == 0]\n",
    "target_1 = train_df.loc[train_df['score'] == 1]\n",
    "target_2 = train_df.loc[train_df['score'] == 2]\n",
    "target_3 = train_df.loc[train_df['score'] == 3]\n",
    "target_4 = train_df.loc[train_df['score'] == 4]"
   ]
  },
  {
   "cell_type": "code",
   "execution_count": 9,
   "id": "e372f427",
   "metadata": {},
   "outputs": [
    {
     "name": "stdout",
     "output_type": "stream",
     "text": [
      "Среднее количество слов в самом популярном комментарии (0 score) - 141.18155197657393\n",
      "Медианное количество слов в самом популярном комментарии (0 score) - 99.0\n",
      "\n",
      "Среднее количество слов в  популярном комментарии (1 score) - 96.47291361639824\n",
      "Медианное количество слов в популярном комментарии (1 score) - 67.0\n",
      "\n",
      "Среднее количество слов в среднем по популярности комментарии (2 score) - 77.67884504068917\n",
      "Медианное количество слов в среднем по популярности комментарии (2 score) - 53.0\n",
      "\n",
      "Среднее количество слов в  непопулярном комментарии (3 score) - 66.69383817403839\n",
      "Медианное количество слов в непопулярном комментарии (3 score) - 44.0\n",
      "\n",
      "Среднее количество слов в самом непопулярном комментарии (4 score) - 57.97538220572713\n",
      "Медианное количество слов в самом непопулярном комментарии (4 score) - 38.0\n",
      "\n"
     ]
    }
   ],
   "source": [
    "print(\"Среднее количество слов в самом популярном комментарии (0 score) -\", target_0['word_count_comment'].mean() )\n",
    "print(\"Медианное количество слов в самом популярном комментарии (0 score) -\", target_0['word_count_comment'].median() )\n",
    "print ()\n",
    "print(\"Среднее количество слов в  популярном комментарии (1 score) -\", target_1['word_count_comment'].mean() )\n",
    "print(\"Медианное количество слов в популярном комментарии (1 score) -\", target_1['word_count_comment'].median() )\n",
    "print()\n",
    "print(\"Среднее количество слов в среднем по популярности комментарии (2 score) -\", target_2['word_count_comment'].mean() )\n",
    "print(\"Медианное количество слов в среднем по популярности комментарии (2 score) -\", target_2['word_count_comment'].median() )\n",
    "print()\n",
    "print(\"Среднее количество слов в  непопулярном комментарии (3 score) -\", target_3['word_count_comment'].mean() )\n",
    "print(\"Медианное количество слов в непопулярном комментарии (3 score) -\", target_3['word_count_comment'].median() )\n",
    "print()\n",
    "print(\"Среднее количество слов в самом непопулярном комментарии (4 score) -\", target_4['word_count_comment'].mean() )\n",
    "print(\"Медианное количество слов в самом непопулярном комментарии (4 score) -\", target_4['word_count_comment'].median() )\n",
    "print()\n"
   ]
  },
  {
   "cell_type": "markdown",
   "id": "ea6d7043",
   "metadata": {},
   "source": [
    "<b> Вывод по первой гипотизе:</b> Существует значительная разница между количеством слов в популярных и непопулярных комментариях. Медианное количество слов в самых популярном комментарии для каждого поста почти в два раза больше, чем в самом непопулярном. "
   ]
  },
  {
   "cell_type": "markdown",
   "id": "c140f655",
   "metadata": {},
   "source": [
    "<b> Гипотеза 2: </b> В популярных комментариях (так как они более информативны) используются более сложные, более длинные (многобуквенные) слова.  "
   ]
  },
  {
   "cell_type": "code",
   "execution_count": 10,
   "id": "31e88037",
   "metadata": {},
   "outputs": [
    {
     "data": {
      "text/html": [
       "<div>\n",
       "<style scoped>\n",
       "    .dataframe tbody tr th:only-of-type {\n",
       "        vertical-align: middle;\n",
       "    }\n",
       "\n",
       "    .dataframe tbody tr th {\n",
       "        vertical-align: top;\n",
       "    }\n",
       "\n",
       "    .dataframe thead th {\n",
       "        text-align: right;\n",
       "    }\n",
       "</style>\n",
       "<table border=\"1\" class=\"dataframe\">\n",
       "  <thead>\n",
       "    <tr style=\"text-align: right;\">\n",
       "      <th></th>\n",
       "      <th>post_text</th>\n",
       "      <th>comment_text</th>\n",
       "      <th>score</th>\n",
       "      <th>word_count_comment</th>\n",
       "      <th>characters</th>\n",
       "      <th>mean_of_characters_per_words</th>\n",
       "    </tr>\n",
       "  </thead>\n",
       "  <tbody>\n",
       "    <tr>\n",
       "      <th>0</th>\n",
       "      <td>How many summer Y Combinator fundees decided n...</td>\n",
       "      <td>Going back to school is not identical with giv...</td>\n",
       "      <td>0</td>\n",
       "      <td>186</td>\n",
       "      <td>998</td>\n",
       "      <td>5.365591</td>\n",
       "    </tr>\n",
       "    <tr>\n",
       "      <th>1</th>\n",
       "      <td>How many summer Y Combinator fundees decided n...</td>\n",
       "      <td>There will invariably be those who don't see t...</td>\n",
       "      <td>1</td>\n",
       "      <td>76</td>\n",
       "      <td>414</td>\n",
       "      <td>5.447368</td>\n",
       "    </tr>\n",
       "    <tr>\n",
       "      <th>2</th>\n",
       "      <td>How many summer Y Combinator fundees decided n...</td>\n",
       "      <td>For me school is a way to be connected to what...</td>\n",
       "      <td>2</td>\n",
       "      <td>91</td>\n",
       "      <td>488</td>\n",
       "      <td>5.362637</td>\n",
       "    </tr>\n",
       "  </tbody>\n",
       "</table>\n",
       "</div>"
      ],
      "text/plain": [
       "                                           post_text  \\\n",
       "0  How many summer Y Combinator fundees decided n...   \n",
       "1  How many summer Y Combinator fundees decided n...   \n",
       "2  How many summer Y Combinator fundees decided n...   \n",
       "\n",
       "                                        comment_text  score  \\\n",
       "0  Going back to school is not identical with giv...      0   \n",
       "1  There will invariably be those who don't see t...      1   \n",
       "2  For me school is a way to be connected to what...      2   \n",
       "\n",
       "   word_count_comment  characters  mean_of_characters_per_words  \n",
       "0                 186         998                      5.365591  \n",
       "1                  76         414                      5.447368  \n",
       "2                  91         488                      5.362637  "
      ]
     },
     "execution_count": 10,
     "metadata": {},
     "output_type": "execute_result"
    }
   ],
   "source": [
    "# посчитаем среднее количество букв в словах в комментариях \n",
    "train_df['characters'] = train_df['comment_text'].str.len()\n",
    "train_df['mean_of_characters_per_words'] = train_df['characters']/train_df['word_count_comment']\n",
    "train_df.head(3)"
   ]
  },
  {
   "cell_type": "code",
   "execution_count": 11,
   "id": "d6d614da",
   "metadata": {},
   "outputs": [],
   "source": [
    "target_0 = train_df.loc[train_df['score'] == 0]\n",
    "target_1 = train_df.loc[train_df['score'] == 1]\n",
    "target_2 = train_df.loc[train_df['score'] == 2]\n",
    "target_3 = train_df.loc[train_df['score'] == 3]\n",
    "target_4 = train_df.loc[train_df['score'] == 4]"
   ]
  },
  {
   "cell_type": "code",
   "execution_count": 12,
   "id": "98f4532c",
   "metadata": {},
   "outputs": [
    {
     "name": "stdout",
     "output_type": "stream",
     "text": [
      "Среднее количество букв в используемых словах в самом популярном комментарии (0 score) - 6.57\n",
      "Медианное количество букв в используемых словах в самом популярном комментарии (0 score) - 5.9\n",
      "\n",
      "Среднее количество букв в используемых словах в  популярном комментарии (1 score) - 6.56\n",
      "Медианное количество букв в используемых словах в популярном комментарии (1 score) - 5.88\n",
      "\n",
      "Среднее количество букв в используемых словах в среднем по популярности комментарии (2 score) - 6.58\n",
      "Медианное количество букв в используемых словах в среднем по популярности комментарии (2 score) - 5.87\n",
      "\n",
      "Среднее количество букв в используемых словах в  непопулярном комментарии (3 score) - 6.59\n",
      "Медианное количество букв в используемых словах в непопулярном комментарии (3 score) - 5.85\n",
      "\n",
      "Среднее количество букв в используемых словах в самом непопулярном комментарии (4 score) - 6.56\n",
      "Медианное количество букв в используемых словах в самом непопулярном комментарии (4 score) - 5.82\n",
      "\n"
     ]
    }
   ],
   "source": [
    "print(\"Среднее количество букв в используемых словах в самом популярном комментарии (0 score) -\", round(target_0['mean_of_characters_per_words'].mean(),2 ))\n",
    "print(\"Медианное количество букв в используемых словах в самом популярном комментарии (0 score) -\", round(target_0['mean_of_characters_per_words'].median(),2 ) )\n",
    "print()\n",
    "print(\"Среднее количество букв в используемых словах в  популярном комментарии (1 score) -\", round(target_1['mean_of_characters_per_words'].mean(),2) )\n",
    "print(\"Медианное количество букв в используемых словах в популярном комментарии (1 score) -\", round(target_1['mean_of_characters_per_words'].median(),2) )\n",
    "print()\n",
    "print(\"Среднее количество букв в используемых словах в среднем по популярности комментарии (2 score) -\", round(target_2['mean_of_characters_per_words'].mean(), 2 ) )\n",
    "print(\"Медианное количество букв в используемых словах в среднем по популярности комментарии (2 score) -\", round(target_2['mean_of_characters_per_words'].median(), 2) )\n",
    "print()\n",
    "print(\"Среднее количество букв в используемых словах в  непопулярном комментарии (3 score) -\", round(target_3['mean_of_characters_per_words'].mean(), 2) )\n",
    "print(\"Медианное количество букв в используемых словах в непопулярном комментарии (3 score) -\", round(target_3['mean_of_characters_per_words'].median(), 2) )\n",
    "print()\n",
    "print(\"Среднее количество букв в используемых словах в самом непопулярном комментарии (4 score) -\", round(target_4['mean_of_characters_per_words'].mean(), 2) )\n",
    "print(\"Медианное количество букв в используемых словах в самом непопулярном комментарии (4 score) -\", round(target_4['mean_of_characters_per_words'].median(), 2) )\n",
    "print()\n"
   ]
  },
  {
   "cell_type": "markdown",
   "id": "d81f66bd",
   "metadata": {},
   "source": [
    "<b> Вывод по второй гипотезе: </b> мы можем обнаружить устойчивую разницу между популярностью комментария и длиной слов, которые в нем используются. Популярные комментарии действительно используют более длинные слова в сравнении с непопулярными комментариями."
   ]
  },
  {
   "cell_type": "markdown",
   "id": "f19627fa",
   "metadata": {},
   "source": [
    "<b> Гипотеза 3: </b> В популярных комментариях используются более сложные предложения. Чаще используются сложносочененные предложения, перечисления. Мы сможем увидеть больше запятых в популярных комментариях. "
   ]
  },
  {
   "cell_type": "code",
   "execution_count": 13,
   "id": "8e5d4fad",
   "metadata": {},
   "outputs": [
    {
     "data": {
      "text/html": [
       "<div>\n",
       "<style scoped>\n",
       "    .dataframe tbody tr th:only-of-type {\n",
       "        vertical-align: middle;\n",
       "    }\n",
       "\n",
       "    .dataframe tbody tr th {\n",
       "        vertical-align: top;\n",
       "    }\n",
       "\n",
       "    .dataframe thead th {\n",
       "        text-align: right;\n",
       "    }\n",
       "</style>\n",
       "<table border=\"1\" class=\"dataframe\">\n",
       "  <thead>\n",
       "    <tr style=\"text-align: right;\">\n",
       "      <th></th>\n",
       "      <th>post_text</th>\n",
       "      <th>comment_text</th>\n",
       "      <th>score</th>\n",
       "      <th>word_count_comment</th>\n",
       "      <th>characters</th>\n",
       "      <th>mean_of_characters_per_words</th>\n",
       "      <th>commas</th>\n",
       "      <th>commas_per_words_count</th>\n",
       "    </tr>\n",
       "  </thead>\n",
       "  <tbody>\n",
       "    <tr>\n",
       "      <th>0</th>\n",
       "      <td>How many summer Y Combinator fundees decided n...</td>\n",
       "      <td>Going back to school is not identical with giv...</td>\n",
       "      <td>0</td>\n",
       "      <td>186</td>\n",
       "      <td>998</td>\n",
       "      <td>5.365591</td>\n",
       "      <td>7</td>\n",
       "      <td>26.571429</td>\n",
       "    </tr>\n",
       "    <tr>\n",
       "      <th>1</th>\n",
       "      <td>How many summer Y Combinator fundees decided n...</td>\n",
       "      <td>There will invariably be those who don't see t...</td>\n",
       "      <td>1</td>\n",
       "      <td>76</td>\n",
       "      <td>414</td>\n",
       "      <td>5.447368</td>\n",
       "      <td>3</td>\n",
       "      <td>25.333333</td>\n",
       "    </tr>\n",
       "    <tr>\n",
       "      <th>2</th>\n",
       "      <td>How many summer Y Combinator fundees decided n...</td>\n",
       "      <td>For me school is a way to be connected to what...</td>\n",
       "      <td>2</td>\n",
       "      <td>91</td>\n",
       "      <td>488</td>\n",
       "      <td>5.362637</td>\n",
       "      <td>0</td>\n",
       "      <td>inf</td>\n",
       "    </tr>\n",
       "  </tbody>\n",
       "</table>\n",
       "</div>"
      ],
      "text/plain": [
       "                                           post_text  \\\n",
       "0  How many summer Y Combinator fundees decided n...   \n",
       "1  How many summer Y Combinator fundees decided n...   \n",
       "2  How many summer Y Combinator fundees decided n...   \n",
       "\n",
       "                                        comment_text  score  \\\n",
       "0  Going back to school is not identical with giv...      0   \n",
       "1  There will invariably be those who don't see t...      1   \n",
       "2  For me school is a way to be connected to what...      2   \n",
       "\n",
       "   word_count_comment  characters  mean_of_characters_per_words  commas  \\\n",
       "0                 186         998                      5.365591       7   \n",
       "1                  76         414                      5.447368       3   \n",
       "2                  91         488                      5.362637       0   \n",
       "\n",
       "   commas_per_words_count  \n",
       "0               26.571429  \n",
       "1               25.333333  \n",
       "2                     inf  "
      ]
     },
     "execution_count": 13,
     "metadata": {},
     "output_type": "execute_result"
    }
   ],
   "source": [
    "# количество запятых в комментарии и количество запятых на количество слов \n",
    "train_df['commas'] = train_df['comment_text'].apply(lambda x : x.count(\",\") )\n",
    "train_df['commas_per_words_count'] = train_df['word_count_comment']/train_df['commas']\n",
    "\n",
    "train_df.head(3)"
   ]
  },
  {
   "cell_type": "code",
   "execution_count": 16,
   "id": "dd7e58a9",
   "metadata": {},
   "outputs": [],
   "source": [
    "target_0 = train_df.loc[train_df['score'] == 0]\n",
    "target_1 = train_df.loc[train_df['score'] == 1]\n",
    "target_2 = train_df.loc[train_df['score'] == 2]\n",
    "target_3 = train_df.loc[train_df['score'] == 3]\n",
    "target_4 = train_df.loc[train_df['score'] == 4]"
   ]
  },
  {
   "cell_type": "code",
   "execution_count": 17,
   "id": "b21ed4ee",
   "metadata": {},
   "outputs": [
    {
     "data": {
      "text/plain": [
       "Text(0, 0.5, 'Количество комментариев')"
      ]
     },
     "execution_count": 17,
     "metadata": {},
     "output_type": "execute_result"
    },
    {
     "data": {
      "image/png": "[encoded data removed]",
      "text/plain": [
       "<Figure size 432x288 with 1 Axes>"
      ]
     },
     "metadata": {
      "needs_background": "light"
     },
     "output_type": "display_data"
    }
   ],
   "source": [
    "plt.clf()\n",
    "sns.histplot(data=train_df, x=\"commas_per_words_count\", bins=1000, hue=\"score\")\n",
    "plt.xlim(0, 100)\n",
    "plt.xlabel(\"Количество запятых на количество слов (соотношение) в комментарии\")\n",
    "plt.ylabel(\"Количество комментариев\")"
   ]
  },
  {
   "cell_type": "code",
   "execution_count": 18,
   "id": "ffe1d8b6",
   "metadata": {},
   "outputs": [
    {
     "name": "stdout",
     "output_type": "stream",
     "text": [
      "Медианное соотношения количества запятых/на количество используемых слов в самом популярном комментарии (0 score) - 25.4\n",
      "\n",
      "Медианное соотношения количества запятых/на количество используемых слов в популярном комментарии (1 score) - 27.33\n",
      "\n",
      "Медианное соотношения количества запятых/на количество используемых слов в среднем по популярности комментарии (2 score) - 29.0\n",
      "\n",
      "Медианное соотношения количества запятых/на количество используемых слов в непопулярном комментарии (3 score) - 31.0\n",
      "\n",
      "Медианное соотношения количества запятых/на количество используемых слов в самом непопулярном комментарии (4 score) - 34.0\n"
     ]
    }
   ],
   "source": [
    "print(\"Медианное соотношения количества запятых/на количество используемых слов в самом популярном комментарии (0 score) -\", round(target_0['commas_per_words_count'].median(),2 ) )\n",
    "print()\n",
    "print(\"Медианное соотношения количества запятых/на количество используемых слов в популярном комментарии (1 score) -\", round(target_1['commas_per_words_count'].median(),2) )\n",
    "print()\n",
    "print(\"Медианное соотношения количества запятых/на количество используемых слов в среднем по популярности комментарии (2 score) -\", round(target_2['commas_per_words_count'].median(), 2) )\n",
    "print()\n",
    "print(\"Медианное соотношения количества запятых/на количество используемых слов в непопулярном комментарии (3 score) -\", round(target_3['commas_per_words_count'].median(), 2) )\n",
    "print()\n",
    "print(\"Медианное соотношения количества запятых/на количество используемых слов в самом непопулярном комментарии (4 score) -\", round(target_4['commas_per_words_count'].median(), 2) )\n"
   ]
  },
  {
   "cell_type": "markdown",
   "id": "7a0380c7",
   "metadata": {},
   "source": [
    "<b> Вывод по третей гипотезе: </b> контринтуитивный вывод, однако в более популярных комментариях меньше количество запятых на количество слов в комментарии. Популярные комментаторы реже используют запятые. Возможно, меньшее количество запятых означает более простую и понятную форму изложения мысли. "
   ]
  },
  {
   "cell_type": "code",
   "execution_count": null,
   "id": "eda9797e",
   "metadata": {},
   "outputs": [],
   "source": []
  },
  {
   "cell_type": "code",
   "execution_count": null,
   "id": "08390cce",
   "metadata": {},
   "outputs": [],
   "source": []
  },
  {
   "cell_type": "code",
   "execution_count": null,
   "id": "c9687a38",
   "metadata": {},
   "outputs": [],
   "source": []
  },
  {
   "cell_type": "code",
   "execution_count": null,
   "id": "a0641594",
   "metadata": {},
   "outputs": [],
   "source": []
  },
  {
   "cell_type": "code",
   "execution_count": null,
   "id": "16bdcfc3",
   "metadata": {},
   "outputs": [],
   "source": []
  },
  {
   "cell_type": "code",
   "execution_count": null,
   "id": "7c8da5a8",
   "metadata": {},
   "outputs": [],
   "source": []
  },
  {
   "cell_type": "code",
   "execution_count": null,
   "id": "60e0de7a",
   "metadata": {},
   "outputs": [],
   "source": []
  },
  {
   "cell_type": "code",
   "execution_count": null,
   "id": "5293497e",
   "metadata": {},
   "outputs": [],
   "source": []
  },
  {
   "cell_type": "code",
   "execution_count": null,
   "id": "2568e290",
   "metadata": {},
   "outputs": [],
   "source": []
  }
 ],
 "metadata": {
  "kernelspec": {
   "display_name": "Python 3 (ipykernel)",
   "language": "python",
   "name": "python3"
  },
  "language_info": {
   "codemirror_mode": {
    "name": "ipython",
    "version": 3
   },
   "file_extension": ".py",
   "mimetype": "text/x-python",
   "name": "python",
   "nbconvert_exporter": "python",
   "pygments_lexer": "ipython3",
   "version": "3.9.7"
  }
 },
 "nbformat": 4,
 "nbformat_minor": 5
}
